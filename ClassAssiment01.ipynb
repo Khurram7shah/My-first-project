{
  "nbformat": 4,
  "nbformat_minor": 0,
  "metadata": {
    "colab": {
      "provenance": [],
      "authorship_tag": "ABX9TyPWTWxs4TMgLYfrgY8n2hza",
      "include_colab_link": true
    },
    "kernelspec": {
      "name": "python3",
      "display_name": "Python 3"
    },
    "language_info": {
      "name": "python"
    }
  },
  "cells": [
    {
      "cell_type": "markdown",
      "metadata": {
        "id": "view-in-github",
        "colab_type": "text"
      },
      "source": [
        "<a href=\"https://colab.research.google.com/github/Khurram7shah/My-first-project/blob/main/ClassAssiment01.ipynb\" target=\"_parent\"><img src=\"https://colab.research.google.com/assets/colab-badge.svg\" alt=\"Open In Colab\"/></a>"
      ]
    },
    {
      "cell_type": "code",
      "execution_count": 2,
      "metadata": {
        "colab": {
          "base_uri": "https://localhost:8080/"
        },
        "id": "9akRu2ekFiyZ",
        "outputId": "42fa0bdc-6443-47fb-81a2-574f0d55bf09"
      },
      "outputs": [
        {
          "output_type": "stream",
          "name": "stdout",
          "text": [
            "Hello, World!\n"
          ]
        }
      ],
      "source": [
        "#1 Write a Python program to print \"Hello, World!\"\n",
        "print(\"Hello, World!\")"
      ]
    },
    {
      "cell_type": "code",
      "source": [
        "# Write a program to get first name and last name from the user, concatenate the them by using string concatenation and print the full name. hint: use input() function to get the input from the user.\n",
        "first_name = input(\"Enter your first name: \")\n",
        "last_name = input(\"Enter your last name: \")\n",
        "full_name = first_name + \" \" + last_name\n",
        "print(\"my full name is :\", full_name)"
      ],
      "metadata": {
        "colab": {
          "base_uri": "https://localhost:8080/"
        },
        "id": "oPhDE_M6FykG",
        "outputId": "67dd3a62-a2f1-426b-8504-bce8686514ab"
      },
      "execution_count": 3,
      "outputs": [
        {
          "output_type": "stream",
          "name": "stdout",
          "text": [
            "Enter your first name: syed khurram\n",
            "Enter your last name: hasnain shah\n",
            "my full name is : syed khurram hasnain shah\n"
          ]
        }
      ]
    },
    {
      "cell_type": "code",
      "source": [
        "# Create a simple calculator without using ChatGPT or Gemini.\n",
        "\n",
        "# Get two numbers from the user. --> use input() function\n",
        "# Perform all the all arithmetic operations on those numbers.\n",
        "# Addition\n",
        "# Subtraction\n",
        "# Multiplication\n",
        "# Division\n",
        "# Modulus\n",
        "# Exponentiation\n",
        "# Floor Division\n",
        "\n",
        "\n",
        "num01=int(input(\"Enter first number: \"))\n",
        "num02=int(input(\"Enter second number: \"))\n",
        "print(f\"Addition of {num01} and {num02} is: \",num01+num02)\n",
        "print(f\"Subtraction of {num01} and {num02} is: \",num01-num02)\n",
        "print(f\"Multiplication of {num01} and {num02} is: \",num01*num02)\n",
        "print(f\"Division of {num01} and {num02} is: \",num01/num02)\n",
        "print(f\"Modulus of {num01} and {num02} is: \",num01%num02)\n",
        "print(f\"Exponentiation of {num01} and {num02} is: \",num01**num02)\n",
        "\n",
        "\n",
        "\n",
        "\n"
      ],
      "metadata": {
        "colab": {
          "base_uri": "https://localhost:8080/"
        },
        "id": "u0fGyhowHAjv",
        "outputId": "95f30e9c-258f-4033-8eb2-4f20e8e5d1c4"
      },
      "execution_count": 5,
      "outputs": [
        {
          "output_type": "stream",
          "name": "stdout",
          "text": [
            "Enter first number: 15\n",
            "Enter second number: 4\n",
            "Addition of  15 and 4 is:  19\n",
            "Subtraction of 15 and 4 is:  11\n",
            "Multiplication of 15 and 4 is:  60\n",
            "Division of15 and 4 is:  3.75\n",
            "Modulus of 15 and 4 is:  3\n",
            "Exponentiation of 15 and 4 is:  50625\n"
          ]
        }
      ]
    },
    {
      "cell_type": "code",
      "source": [
        "# 4- Write a python program which takes student name, roll number, class venue and class schedule from the user. Draft a email message to send to the student using fstring and .format() method. Print the message\n",
        "##fstring##\n",
        "name=input(\"Enter your name: \")\n",
        "roll_no=int(input(\"Enter your roll number: \"))\n",
        "class_venue=input(\"Enter your class venue: \")\n",
        "class_schedule=input(\"Enter your class schedule: \")\n",
        "\n",
        "print(f\"\"\"Dear {name}\n",
        "\n",
        "Thank you for registering in the Python Programming course in PIAIC. Your roll number is {roll_no}. Your classes will be held in the Air University Main Auditorium on {class_venue} at {class_schedule}.\n",
        "\n",
        "Best regards,\n",
        "PIAIC\n",
        "Your roll number is {roll_no}..\"\"\")\n",
        "\n",
        "\n"
      ],
      "metadata": {
        "colab": {
          "base_uri": "https://localhost:8080/"
        },
        "id": "XcsuzhskI9kk",
        "outputId": "c490354d-13cf-42ab-a78b-e9812be4df1d"
      },
      "execution_count": 6,
      "outputs": [
        {
          "output_type": "stream",
          "name": "stdout",
          "text": [
            "Enter your name: khurram\n",
            "Enter your roll number: 12455\n",
            "Enter your class venue: monday\n",
            "Enter your class schedule: 12_12_12\n",
            "Dear khurram\n",
            "\n",
            "Thank you for registering in the Python Programming course in PIAIC. Your roll number is 12455. Your classes will be held in the Air University Main Auditorium on monday at 12_12_12.\n",
            "\n",
            "Best regards,\n",
            "PIAIC\n",
            "Your roll number is 12455..\n"
          ]
        }
      ]
    },
    {
      "cell_type": "code",
      "source": [
        "# format\n",
        "name=input(\"Enter your name: \")\n",
        "roll_no=int(input(\"Enter your roll number: \"))\n",
        "class_venue=input(\"Enter your class venue: \")\n",
        "class_schedule=input(\"Enter your class schedule: \")\n",
        "print(\"\"\"Dear {},\n",
        "\n",
        "Thank you for registering in the Python Programming course in PIAIC. Your roll number is {}. Your classes will be held in the Air University Main Auditorium on {} at {}.\n",
        "\n",
        "Best regards,\n",
        "PIAIC\n",
        "Your roll number is {}..\"\"\".format(name,roll_no,class_venue,class_schedule,roll_no))\n"
      ],
      "metadata": {
        "colab": {
          "base_uri": "https://localhost:8080/"
        },
        "id": "fsks68oFMZzN",
        "outputId": "9f85cdfd-f893-4577-fdae-ba7cfe31143a"
      },
      "execution_count": 11,
      "outputs": [
        {
          "output_type": "stream",
          "name": "stdout",
          "text": [
            "Enter your name: khurram\n",
            "Enter your roll number: 23456\n",
            "Enter your class venue: Monday\n",
            "Enter your class schedule: 12am to 12pm\n",
            "Dear khurram,\n",
            "\n",
            "Thank you for registering in the Python Programming course in PIAIC. Your roll number is 23456. Your classes will be held in the Air University Main Auditorium on Monday at 12am to 12pm.\n",
            "\n",
            "Best regards,\n",
            "PIAIC\n",
            "Your roll number is 23456..\n"
          ]
        }
      ]
    }
  ]
}